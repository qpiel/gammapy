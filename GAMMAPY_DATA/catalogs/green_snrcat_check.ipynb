{
 "cells": [
  {
   "cell_type": "markdown",
   "metadata": {},
   "source": [
    "# SNRcat vs. Green's SNR catalog\n",
    "\n",
    "This is a quick check on SNR positions and extensions from:\n",
    "\n",
    "* SNRcat ([webpage](http://www.physics.umanitoba.ca/snr/SNRcat/))\n",
    "* Green's SNR catalog\n",
    "  ([webpage](https://www.mrao.cam.ac.uk/surveys/snrs/),\n",
    "  [vizier](http://vizier.u-strasbg.fr/viz-bin/VizieR?-source=VII/272))\n",
    "\n",
    "## Summary\n",
    "\n",
    "* They are (by now, after some iteration) mostly consistent. \n",
    "* For the few remaining differences SNRcat has the better values.\n",
    "* The more important point is that SNRcat is more up to date, i.e. has more SNRs.\n",
    "\n",
    "**Use SNRcat!**\n",
    "\n",
    "## Some setup\n",
    "\n",
    "We can get the Green and SNRcat as an Astropy table via [gammapy.datasets](https://gammapy.readthedocs.org/en/latest/datasets/index.html):\n",
    "\n",
    "* [gammapy.datasets.load_catalog_green](https://gammapy.readthedocs.org/en/latest/api/gammapy.datasets.load_catalog_green.html)\n",
    "* [gammapy.datasets.fetch_catalog_snrcat](https://gammapy.readthedocs.org/en/latest/api/gammapy.datasets.fetch_catalog_snrcat.html)"
   ]
  },
  {
   "cell_type": "code",
   "execution_count": 1,
   "metadata": {
    "collapsed": true
   },
   "outputs": [],
   "source": [
    "%matplotlib inline\n",
    "from pprint import pprint\n",
    "import numpy as np\n",
    "import matplotlib.pyplot as plt\n",
    "plt.style.use('fivethirtyeight')\n",
    "from gammapy.datasets import load_catalog_green, fetch_catalog_snrcat"
   ]
  },
  {
   "cell_type": "code",
   "execution_count": 2,
   "metadata": {
    "collapsed": false
   },
   "outputs": [
    {
     "name": "stdout",
     "output_type": "stream",
     "text": [
      "['Source_Name', 'RAJ2000', 'DEJ2000', 'GLON', 'GLAT', 'Dmean', 'Dmaj', 'Dmin', 'u_Dmin', 'l_S_1GHz_', 'S_1GHz_', 'u_S_1GHz_', 'alpha', 'u_alpha', 'type', 'Names']\n"
     ]
    }
   ],
   "source": [
    "green = load_catalog_green()\n",
    "print(green.colnames)\n",
    "# green.show_in_browser(jsviewer=True)"
   ]
  },
  {
   "cell_type": "code",
   "execution_count": 3,
   "metadata": {
    "collapsed": false
   },
   "outputs": [
    {
     "name": "stdout",
     "output_type": "stream",
     "text": [
      "Downloading http://www.physics.umanitoba.ca/snr/SNRcat/SNRdownload.php?table=SNR [Done]\n",
      "Downloading http://www.physics.umanitoba.ca/snr/SNRcat/SNRdownload.php?table=OBS [Done]\n",
      "Download date: 2015-06-07\n",
      "['Source_Name', 'id_uncertain', 'id_alt', 'id_old', 'type', 'type_uncertain', 'context', 'remnant', 'SN_year', 'SN_association', 'age_min', 'age_max', 'age', 'distance_min', 'distance_max', 'distance', 'diameter_mean', 'diameter_mean_is_imprecise', 'diameter_radio_str', 'diameter_radio_mean', 'diameter_xray_str', 'diameter_xray_mean', 'RAJ2000_str', 'RAJ2000', 'DEJ2000_str', 'DEJ2000', 'J2000_from', 'GLON', 'GLAT']\n"
     ]
    }
   ],
   "source": [
    "snrcat = fetch_catalog_snrcat().snr_table\n",
    "print('Download date:', snrcat.meta['version'])\n",
    "print(snrcat.colnames)\n",
    "# snrcat.show_in_browser(jsviewer=True)\n",
    "# pprint(snrcat.dtype)"
   ]
  },
  {
   "cell_type": "code",
   "execution_count": 4,
   "metadata": {
    "collapsed": false
   },
   "outputs": [],
   "source": [
    "def save_snrcat_to_fits():\n",
    "    \"\"\"Save catalogs to FITS files e.g. for browsing with TOPCAT\"\"\"\n",
    "    snrcat = fetch_catalog_snrcat()\n",
    "    snrcat.snr_table.write('green_snrcat_check_snrcat_snr.fits', overwrite=True)\n",
    "    snrcat.obs_table.write('green_snrcat_check_snrcat_obs.fits', overwrite=True)\n",
    "\n",
    "# save_snrcat_to_fits()"
   ]
  },
  {
   "cell_type": "markdown",
   "metadata": {},
   "source": [
    "## Is Green a subset of SNRcat?\n",
    "\n",
    "Yes it is, all OK."
   ]
  },
  {
   "cell_type": "code",
   "execution_count": 5,
   "metadata": {
    "collapsed": false
   },
   "outputs": [
    {
     "name": "stdout",
     "output_type": "stream",
     "text": [
      "294\n"
     ]
    }
   ],
   "source": [
    "print(len(green))"
   ]
  },
  {
   "cell_type": "code",
   "execution_count": 6,
   "metadata": {
    "collapsed": false
   },
   "outputs": [
    {
     "name": "stdout",
     "output_type": "stream",
     "text": [
      "378\n"
     ]
    }
   ],
   "source": [
    "print(len(snrcat))"
   ]
  },
  {
   "cell_type": "code",
   "execution_count": 7,
   "metadata": {
    "collapsed": false
   },
   "outputs": [
    {
     "data": {
      "text/plain": [
       "True"
      ]
     },
     "execution_count": 7,
     "metadata": {},
     "output_type": "execute_result"
    }
   ],
   "source": [
    "set(green['Source_Name']).issubset(snrcat['Source_Name'])"
   ]
  },
  {
   "cell_type": "markdown",
   "metadata": {},
   "source": [
    "## Join catalogs\n",
    "\n",
    "In order to be able to do checks we need to join the two catalogs.\n",
    "\n",
    "We do an inner join, i.e. the output table will only contain the SNRs that are in both catalogs."
   ]
  },
  {
   "cell_type": "code",
   "execution_count": 8,
   "metadata": {
    "collapsed": false
   },
   "outputs": [
    {
     "name": "stdout",
     "output_type": "stream",
     "text": [
      "294\n",
      "['Source_Name', 'Green_RAJ2000', 'Green_DEJ2000', 'Green_GLON', 'Green_GLAT', 'Green_Dmean', 'Green_Dmaj', 'Green_Dmin', 'Green_u_Dmin', 'Green_l_S_1GHz_', 'Green_S_1GHz_', 'Green_u_S_1GHz_', 'Green_alpha', 'Green_u_alpha', 'Green_type', 'Green_Names', 'SNRcat_id_uncertain', 'SNRcat_id_alt', 'SNRcat_id_old', 'SNRcat_type', 'SNRcat_type_uncertain', 'SNRcat_context', 'SNRcat_remnant', 'SNRcat_SN_year', 'SNRcat_SN_association', 'SNRcat_age_min', 'SNRcat_age_max', 'SNRcat_age', 'SNRcat_distance_min', 'SNRcat_distance_max', 'SNRcat_distance', 'SNRcat_diameter_mean', 'SNRcat_diameter_mean_is_imprecise', 'SNRcat_diameter_radio_str', 'SNRcat_diameter_radio_mean', 'SNRcat_diameter_xray_str', 'SNRcat_diameter_xray_mean', 'SNRcat_RAJ2000_str', 'SNRcat_RAJ2000', 'SNRcat_DEJ2000_str', 'SNRcat_DEJ2000', 'SNRcat_J2000_from', 'SNRcat_GLON', 'SNRcat_GLAT']\n"
     ]
    }
   ],
   "source": [
    "from astropy.table import join as table_join\n",
    "def tag_colnames(table, label):\n",
    "    table = table.copy()\n",
    "    for colname in table.colnames[1:]:\n",
    "        table.rename_column(colname, label + '_' + colname)\n",
    "    return table\n",
    "\n",
    "cat = table_join(tag_colnames(green, 'Green'),\n",
    "                 tag_colnames(snrcat, 'SNRcat')\n",
    "                )\n",
    "print(len(cat))\n",
    "print(cat.colnames)"
   ]
  },
  {
   "cell_type": "markdown",
   "metadata": {},
   "source": [
    "## Position check\n",
    "\n",
    "When starting this check there were several inconsistencies, by now most positions are consistent. Remaining differences are due to errors in Green's catalog (for G308.4-01.4, G113.0+00.2, G350.1-0.3, and G358.1+00.1, will be fixed in the next iteration of that catalog) and some refinements done in SNRcat, which we recommend to use."
   ]
  },
  {
   "cell_type": "code",
   "execution_count": 9,
   "metadata": {
    "collapsed": false
   },
   "outputs": [
    {
     "data": {
      "text/html": [
       "&lt;Table masked=True length=15&gt;\n",
       "<table id=\"table4400114096\">\n",
       "<thead><tr><th>Source_Name</th><th>separation</th><th>Green_RAJ2000</th><th>SNRcat_RAJ2000</th><th>Green_DEJ2000</th><th>SNRcat_DEJ2000</th></tr></thead>\n",
       "<thead><tr><th></th><th>deg</th><th>deg</th><th>deg</th><th>deg</th><th>deg</th></tr></thead>\n",
       "<thead><tr><th>str352</th><th>float64</th><th>float64</th><th>float64</th><th>float64</th><th>float64</th></tr></thead>\n",
       "<tr><td>G033.2-00.6</td><td>4.71404480749e-05</td><td>283.4583</td><td>283.458333333</td><td>-0.0333</td><td>-0.0333333333333</td></tr>\n",
       "<tr><td>G025.1-02.3</td><td>0.00650373279507</td><td>281.2917</td><td>281.2875</td><td>-8.0</td><td>-7.995</td></tr>\n",
       "<tr><td>G004.5+06.8</td><td>0.00750178892227</td><td>262.675</td><td>262.670833333</td><td>-21.4833</td><td>-21.4897222222</td></tr>\n",
       "<tr><td>G011.2-00.3</td><td>0.0104656920823</td><td>272.8625</td><td>272.870833333</td><td>-19.4167</td><td>-19.4236111111</td></tr>\n",
       "<tr><td>G296.7-00.9</td><td>0.0145336683286</td><td>178.875</td><td>178.879166667</td><td>-63.1333</td><td>-63.1188888889</td></tr>\n",
       "<tr><td>G021.5-00.9</td><td>0.0152492535104</td><td>278.3875</td><td>278.391666667</td><td>-10.5833</td><td>-10.5686111111</td></tr>\n",
       "<tr><td>G111.7-02.1</td><td>0.0172120790685</td><td>350.8583</td><td>350.85</td><td>58.8</td><td>58.8166666667</td></tr>\n",
       "<tr><td>G033.6+00.1</td><td>0.0390994934749</td><td>283.2</td><td>283.1625</td><td>0.6833</td><td>0.672222222222</td></tr>\n",
       "<tr><td>G347.3-00.5</td><td>0.106572285293</td><td>258.4583</td><td>258.366666667</td><td>-39.75</td><td>-39.83</td></tr>\n",
       "<tr><td>G348.5+00.1</td><td>0.110818183244</td><td>258.525</td><td>258.666666667</td><td>-38.5333</td><td>-38.5333333333</td></tr>\n",
       "<tr><td>G350.1-00.3</td><td>0.66198355093</td><td>259.4167</td><td>260.25</td><td>-37.4</td><td>-37.4</td></tr>\n",
       "<tr><td>G358.1+00.1</td><td>0.939546897708</td><td>264.25</td><td>265.158333333</td><td>-29.9833</td><td>-30.5</td></tr>\n",
       "<tr><td>G113.0+00.2</td><td>1.16862748056</td><td>354.1458</td><td>351.708333333</td><td>61.3667</td><td>61.4333333333</td></tr>\n",
       "<tr><td>G178.2-04.2</td><td>2.1998560383</td><td>83.7708</td><td>81.275</td><td>28.1833</td><td>28.1838888889</td></tr>\n",
       "<tr><td>G308.4-01.4</td><td>31.2469860334</td><td>280.375</td><td>205.3875</td><td>-63.7333</td><td>-63.7447222222</td></tr>\n",
       "</table>"
      ],
      "text/plain": [
       "<Table masked=True length=15>\n",
       "Source_Name     separation    Green_RAJ2000 ... Green_DEJ2000  SNRcat_DEJ2000 \n",
       "                   deg             deg      ...      deg            deg       \n",
       "   str352        float64         float64    ...    float64        float64     \n",
       "----------- ----------------- ------------- ... ------------- ----------------\n",
       "G033.2-00.6 4.71404480749e-05      283.4583 ...       -0.0333 -0.0333333333333\n",
       "G025.1-02.3  0.00650373279507      281.2917 ...          -8.0           -7.995\n",
       "G004.5+06.8  0.00750178892227       262.675 ...      -21.4833   -21.4897222222\n",
       "G011.2-00.3   0.0104656920823      272.8625 ...      -19.4167   -19.4236111111\n",
       "G296.7-00.9   0.0145336683286       178.875 ...      -63.1333   -63.1188888889\n",
       "G021.5-00.9   0.0152492535104      278.3875 ...      -10.5833   -10.5686111111\n",
       "G111.7-02.1   0.0172120790685      350.8583 ...          58.8    58.8166666667\n",
       "G033.6+00.1   0.0390994934749         283.2 ...        0.6833   0.672222222222\n",
       "G347.3-00.5    0.106572285293      258.4583 ...        -39.75           -39.83\n",
       "G348.5+00.1    0.110818183244       258.525 ...      -38.5333   -38.5333333333\n",
       "G350.1-00.3     0.66198355093      259.4167 ...         -37.4            -37.4\n",
       "G358.1+00.1    0.939546897708        264.25 ...      -29.9833            -30.5\n",
       "G113.0+00.2     1.16862748056      354.1458 ...       61.3667    61.4333333333\n",
       "G178.2-04.2      2.1998560383       83.7708 ...       28.1833    28.1838888889\n",
       "G308.4-01.4     31.2469860334       280.375 ...      -63.7333   -63.7447222222"
      ]
     },
     "execution_count": 9,
     "metadata": {},
     "output_type": "execute_result"
    }
   ],
   "source": [
    "from astropy.coordinates import SkyCoord\n",
    "pos_green = SkyCoord(cat['Green_RAJ2000'], cat['Green_DEJ2000'], unit='deg', frame='icrs')\n",
    "pos_snrcat = SkyCoord(cat['SNRcat_RAJ2000'], cat['SNRcat_DEJ2000'], unit='deg', frame='icrs')\n",
    "cat['separation'] = pos_green.separation(pos_snrcat)\n",
    "cat.sort('separation')\n",
    "cat[-15:][['Source_Name', 'separation', 'Green_RAJ2000', 'SNRcat_RAJ2000',\n",
    "           'Green_DEJ2000', 'SNRcat_DEJ2000']]"
   ]
  },
  {
   "cell_type": "code",
   "execution_count": 10,
   "metadata": {
    "collapsed": false
   },
   "outputs": [
    {
     "data": {
      "image/png": "[encoded data removed]",
      "text/plain": [
       "<matplotlib.figure.Figure at 0x10513c780>"
      ]
     },
     "metadata": {},
     "output_type": "display_data"
    }
   ],
   "source": [
    "plt.hist(cat['separation'], bins=np.logspace(-3, 1.5, 50));\n",
    "plt.semilogx();"
   ]
  },
  {
   "cell_type": "markdown",
   "metadata": {},
   "source": [
    "## Extension check\n",
    "\n",
    "For HGPS we currently plan to represent radio SNRs as circles for association and on sky images, probably with diameter = geometric mean of major and minor diameter in case of elongated SNRs.\n",
    "\n",
    "Here's a check comparing these mean SNR diameters from Green against SNRcat.\n",
    "\n",
    "Most extensions are consistent.\n",
    "\n",
    "There's four SNRs where the relative size difference is more than 5%\n",
    "(table shows mean diameters in arcmin):\n",
    "\n",
    "SNR         | Green | SNRcat \n",
    "------------|-------|-------\n",
    "G054.1+00.3 | 12    | 8\n",
    "G065.7+01.2 | 22    | 15    \n",
    "G296.7-00.9 | 10.9  | 12\n",
    "G308.4-01.4 | 8.5   | 9\n"
   ]
  },
  {
   "cell_type": "code",
   "execution_count": 11,
   "metadata": {
    "collapsed": false
   },
   "outputs": [
    {
     "data": {
      "image/png": "[encoded data removed]",
      "text/plain": [
       "<matplotlib.figure.Figure at 0x10641d780>"
      ]
     },
     "metadata": {},
     "output_type": "display_data"
    }
   ],
   "source": [
    "plt.hist(cat['Green_Dmean'], bins=50);\n",
    "plt.xlabel('SNR diameter (arcmin)');"
   ]
  },
  {
   "cell_type": "code",
   "execution_count": 12,
   "metadata": {
    "collapsed": false
   },
   "outputs": [
    {
     "data": {
      "image/png": "[encoded data removed]",
      "text/plain": [
       "<matplotlib.figure.Figure at 0x106a07278>"
      ]
     },
     "metadata": {},
     "output_type": "display_data"
    }
   ],
   "source": [
    "plt.hist(cat['SNRcat_diameter_mean'], bins=50);\n",
    "plt.xlabel('SNR diameter (arcmin)');"
   ]
  },
  {
   "cell_type": "code",
   "execution_count": 13,
   "metadata": {
    "collapsed": false
   },
   "outputs": [
    {
     "data": {
      "image/png": "[encoded data removed]",
      "text/plain": [
       "<matplotlib.figure.Figure at 0x106d007b8>"
      ]
     },
     "metadata": {},
     "output_type": "display_data"
    }
   ],
   "source": [
    "plt.scatter(cat['Green_Dmean'], cat['SNRcat_diameter_mean']);"
   ]
  },
  {
   "cell_type": "code",
   "execution_count": 14,
   "metadata": {
    "collapsed": false
   },
   "outputs": [],
   "source": [
    "# Compute absolute and relative difference in diameter\n",
    "cat['diameter_diff_abs'] = np.abs(cat['Green_Dmean'] - cat['SNRcat_diameter_mean'])\n",
    "cat['diameter_diff_rel'] = 100. * (cat['diameter_diff_abs'] / cat['Green_Dmean'])"
   ]
  },
  {
   "cell_type": "code",
   "execution_count": 15,
   "metadata": {
    "collapsed": false
   },
   "outputs": [
    {
     "data": {
      "text/plain": [
       "(0.1, 1000.0)"
      ]
     },
     "execution_count": 15,
     "metadata": {},
     "output_type": "execute_result"
    },
    {
     "data": {
      "image/png": "[encoded data removed]",
      "text/plain": [
       "<matplotlib.figure.Figure at 0x106c5d6a0>"
      ]
     },
     "metadata": {},
     "output_type": "display_data"
    }
   ],
   "source": [
    "plt.hist(cat['diameter_diff_abs'], bins=50, log=True);\n",
    "plt.xlabel('SNR diameter absolute difference (arcmin)')\n",
    "plt.ylim(1e-1, 1e3)"
   ]
  },
  {
   "cell_type": "code",
   "execution_count": 16,
   "metadata": {
    "collapsed": false
   },
   "outputs": [
    {
     "data": {
      "text/html": [
       "&lt;Table masked=True length=10&gt;\n",
       "<table id=\"table4413541008\">\n",
       "<thead><tr><th>Source_Name</th><th>diameter_diff_abs</th><th>diameter_diff_rel</th><th>Green_Dmean</th><th>SNRcat_diameter_mean</th><th>SNRcat_diameter_radio_str</th><th>Green_Dmaj</th><th>Green_Dmin</th></tr></thead>\n",
       "<thead><tr><th></th><th>arcmin</th><th>arcmin</th><th>arcmin</th><th>arcmin</th><th></th><th>arcmin</th><th>arcmin</th></tr></thead>\n",
       "<thead><tr><th>str352</th><th>float64</th><th>float64</th><th>float32</th><th>float64</th><th>str544</th><th>float32</th><th>float32</th></tr></thead>\n",
       "<tr><td>G082.2+05.3</td><td>0.581169128418</td><td>0.739578113769</td><td>78.5812</td><td>78.0</td><td>95&apos;x65&apos;</td><td>95.0</td><td>65.0</td></tr>\n",
       "<tr><td>G025.1-02.3</td><td>1.01020431519</td><td>2.06207088857</td><td>48.9898</td><td>50.0</td><td>80&apos;x30&apos;</td><td>80.0</td><td>30.0</td></tr>\n",
       "<tr><td>G296.7-00.9</td><td>1.04554843903</td><td>9.54450739233</td><td>10.9545</td><td>12.0</td><td>14&apos;x10&apos;</td><td>15.0</td><td>8.0</td></tr>\n",
       "<tr><td>G315.1+02.7</td><td>1.18057250977</td><td>0.699310812338</td><td>168.819</td><td>170.0</td><td>190&apos;x150&apos;</td><td>190.0</td><td>150.0</td></tr>\n",
       "<tr><td>G074.0-08.5</td><td>1.83326721191</td><td>0.955656564974</td><td>191.833</td><td>190.0</td><td>230&apos;x160&apos;</td><td>230.0</td><td>160.0</td></tr>\n",
       "<tr><td>G159.6+07.3</td><td>2.15390014648</td><td>1.03629567647</td><td>207.846</td><td>210.0</td><td>4 deg x 3 deg</td><td>240.0</td><td>180.0</td></tr>\n",
       "<tr><td>G065.3+05.7</td><td>2.76364135742</td><td>1.0132000525</td><td>272.764</td><td>270.0</td><td>310&apos;x240&apos;</td><td>310.0</td><td>240.0</td></tr>\n",
       "<tr><td>G089.0+04.7</td><td>3.92304992676</td><td>3.7749564986</td><td>103.923</td><td>100.0</td><td>2 deg x 1.5 deg</td><td>120.0</td><td>90.0</td></tr>\n",
       "<tr><td>G054.1+00.3</td><td>4.0</td><td>33.3333333333</td><td>12.0</td><td>8.0</td><td>8&apos;</td><td>12.0</td><td>nan</td></tr>\n",
       "<tr><td>G065.7+01.2</td><td>7.0</td><td>31.8181818182</td><td>22.0</td><td>15.0</td><td>15&apos;</td><td>22.0</td><td>nan</td></tr>\n",
       "</table>"
      ],
      "text/plain": [
       "<Table masked=True length=10>\n",
       "Source_Name diameter_diff_abs diameter_diff_rel ... Green_Dmaj Green_Dmin\n",
       "                  arcmin            arcmin      ...   arcmin     arcmin  \n",
       "   str352        float64           float64      ...  float32    float32  \n",
       "----------- ----------------- ----------------- ... ---------- ----------\n",
       "G082.2+05.3    0.581169128418    0.739578113769 ...       95.0       65.0\n",
       "G025.1-02.3     1.01020431519     2.06207088857 ...       80.0       30.0\n",
       "G296.7-00.9     1.04554843903     9.54450739233 ...       15.0        8.0\n",
       "G315.1+02.7     1.18057250977    0.699310812338 ...      190.0      150.0\n",
       "G074.0-08.5     1.83326721191    0.955656564974 ...      230.0      160.0\n",
       "G159.6+07.3     2.15390014648     1.03629567647 ...      240.0      180.0\n",
       "G065.3+05.7     2.76364135742      1.0132000525 ...      310.0      240.0\n",
       "G089.0+04.7     3.92304992676      3.7749564986 ...      120.0       90.0\n",
       "G054.1+00.3               4.0     33.3333333333 ...       12.0        nan\n",
       "G065.7+01.2               7.0     31.8181818182 ...       22.0        nan"
      ]
     },
     "execution_count": 16,
     "metadata": {},
     "output_type": "execute_result"
    }
   ],
   "source": [
    "cat.sort('diameter_diff_abs')\n",
    "cat[-10:][['Source_Name', 'diameter_diff_abs', 'diameter_diff_rel', 'Green_Dmean', 'SNRcat_diameter_mean',\n",
    "           'SNRcat_diameter_radio_str', 'Green_Dmaj', 'Green_Dmin']]"
   ]
  },
  {
   "cell_type": "code",
   "execution_count": 17,
   "metadata": {
    "collapsed": false
   },
   "outputs": [
    {
     "data": {
      "text/plain": [
       "(0.1, 1000.0)"
      ]
     },
     "execution_count": 17,
     "metadata": {},
     "output_type": "execute_result"
    },
    {
     "data": {
      "image/png": "[encoded data removed]",
      "text/plain": [
       "<matplotlib.figure.Figure at 0x107114fd0>"
      ]
     },
     "metadata": {},
     "output_type": "display_data"
    }
   ],
   "source": [
    "plt.hist(cat['diameter_diff_rel'], bins=50, log=True);\n",
    "plt.xlabel('SNR diameter relative difference (%)')\n",
    "plt.ylim(1e-1, 1e3)"
   ]
  },
  {
   "cell_type": "code",
   "execution_count": 18,
   "metadata": {
    "collapsed": false
   },
   "outputs": [
    {
     "data": {
      "text/html": [
       "&lt;Table masked=True length=10&gt;\n",
       "<table id=\"table4380205008\">\n",
       "<thead><tr><th>Source_Name</th><th>diameter_diff_abs</th><th>diameter_diff_rel</th><th>Green_Dmean</th><th>SNRcat_diameter_mean</th><th>SNRcat_diameter_radio_str</th><th>Green_Dmaj</th><th>Green_Dmin</th></tr></thead>\n",
       "<thead><tr><th></th><th>arcmin</th><th>arcmin</th><th>arcmin</th><th>arcmin</th><th></th><th>arcmin</th><th>arcmin</th></tr></thead>\n",
       "<thead><tr><th>str352</th><th>float64</th><th>float64</th><th>float32</th><th>float64</th><th>str544</th><th>float32</th><th>float32</th></tr></thead>\n",
       "<tr><td>G298.6-00.0</td><td>0.392304420471</td><td>3.77495120041</td><td>10.3923</td><td>10.0</td><td>12&apos;x9&apos;</td><td>12.0</td><td>9.0</td></tr>\n",
       "<tr><td>G342.0-00.2</td><td>0.392304420471</td><td>3.77495120041</td><td>10.3923</td><td>10.0</td><td>12&apos;x9&apos;</td><td>12.0</td><td>9.0</td></tr>\n",
       "<tr><td>G351.9-00.9</td><td>0.392304420471</td><td>3.77495120041</td><td>10.3923</td><td>10.0</td><td>12&apos;x9&apos;</td><td>12.0</td><td>9.0</td></tr>\n",
       "<tr><td>G089.0+04.7</td><td>3.92304992676</td><td>3.7749564986</td><td>103.923</td><td>100.0</td><td>2 deg x 1.5 deg</td><td>120.0</td><td>90.0</td></tr>\n",
       "<tr><td>G286.5-01.2</td><td>0.489995956421</td><td>3.92310740636</td><td>12.49</td><td>12.0</td><td>26&apos;x6&apos;</td><td>26.0</td><td>6.0</td></tr>\n",
       "<tr><td>G359.1+00.9</td><td>0.51087474823</td><td>4.44659394893</td><td>11.4891</td><td>12.0</td><td>12&apos;x11&apos;</td><td>12.0</td><td>11.0</td></tr>\n",
       "<tr><td>G308.4-01.4</td><td>0.514719009399</td><td>6.06602197346</td><td>8.48528</td><td>9.0</td><td>14&apos;x6&apos;</td><td>12.0</td><td>6.0</td></tr>\n",
       "<tr><td>G296.7-00.9</td><td>1.04554843903</td><td>9.54450739233</td><td>10.9545</td><td>12.0</td><td>14&apos;x10&apos;</td><td>15.0</td><td>8.0</td></tr>\n",
       "<tr><td>G065.7+01.2</td><td>7.0</td><td>31.8181818182</td><td>22.0</td><td>15.0</td><td>15&apos;</td><td>22.0</td><td>nan</td></tr>\n",
       "<tr><td>G054.1+00.3</td><td>4.0</td><td>33.3333333333</td><td>12.0</td><td>8.0</td><td>8&apos;</td><td>12.0</td><td>nan</td></tr>\n",
       "</table>"
      ],
      "text/plain": [
       "<Table masked=True length=10>\n",
       "Source_Name diameter_diff_abs diameter_diff_rel ... Green_Dmaj Green_Dmin\n",
       "                  arcmin            arcmin      ...   arcmin     arcmin  \n",
       "   str352        float64           float64      ...  float32    float32  \n",
       "----------- ----------------- ----------------- ... ---------- ----------\n",
       "G298.6-00.0    0.392304420471     3.77495120041 ...       12.0        9.0\n",
       "G342.0-00.2    0.392304420471     3.77495120041 ...       12.0        9.0\n",
       "G351.9-00.9    0.392304420471     3.77495120041 ...       12.0        9.0\n",
       "G089.0+04.7     3.92304992676      3.7749564986 ...      120.0       90.0\n",
       "G286.5-01.2    0.489995956421     3.92310740636 ...       26.0        6.0\n",
       "G359.1+00.9     0.51087474823     4.44659394893 ...       12.0       11.0\n",
       "G308.4-01.4    0.514719009399     6.06602197346 ...       12.0        6.0\n",
       "G296.7-00.9     1.04554843903     9.54450739233 ...       15.0        8.0\n",
       "G065.7+01.2               7.0     31.8181818182 ...       22.0        nan\n",
       "G054.1+00.3               4.0     33.3333333333 ...       12.0        nan"
      ]
     },
     "execution_count": 18,
     "metadata": {},
     "output_type": "execute_result"
    }
   ],
   "source": [
    "cat.sort('diameter_diff_rel')\n",
    "cat[-10:][['Source_Name', 'diameter_diff_abs', 'diameter_diff_rel', 'Green_Dmean', 'SNRcat_diameter_mean',\n",
    "           'SNRcat_diameter_radio_str', 'Green_Dmaj', 'Green_Dmin']]"
   ]
  },
  {
   "cell_type": "code",
   "execution_count": null,
   "metadata": {
    "collapsed": false
   },
   "outputs": [],
   "source": []
  }
 ],
 "metadata": {
  "kernelspec": {
   "display_name": "Python 3",
   "language": "python",
   "name": "python3"
  },
  "language_info": {
   "codemirror_mode": {
    "name": "ipython",
    "version": 3
   },
   "file_extension": ".py",
   "mimetype": "text/x-python",
   "name": "python",
   "nbconvert_exporter": "python",
   "pygments_lexer": "ipython3",
   "version": "3.4.3"
  }
 },
 "nbformat": 4,
 "nbformat_minor": 0
}
