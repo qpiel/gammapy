{
 "cells": [
  {
   "cell_type": "code",
   "execution_count": 18,
   "metadata": {},
   "outputs": [],
   "source": [
    "from gammapy.time.map_creation import *\n"
   ]
  },
  {
   "cell_type": "code",
   "execution_count": 104,
   "metadata": {},
   "outputs": [
    {
     "data": {
      "text/plain": [
       "100"
      ]
     },
     "execution_count": 104,
     "metadata": {},
     "output_type": "execute_result"
    }
   ],
   "source": [
    "binsize = 0.1 #deg\n",
    "fov = 5. #deg\n",
    "target_ra = 3.\n",
    "target_dec = 5.\n",
    "ra_bin, dec_bin, event_bin = create_RTA_Map(binsize,target_ra,target_dec,fov)\n",
    "signi = np.ones((len(ra_bin),len(dec_bin)))\n",
    "len(signi)\n",
    "#signi_bin = np"
   ]
  },
  {
   "cell_type": "code",
   "execution_count": 100,
   "metadata": {},
   "outputs": [
    {
     "name": "stdout",
     "output_type": "stream",
     "text": [
      "100 100\n",
      "100\n"
     ]
    }
   ],
   "source": [
    "print(len(ra_bin),len(dec_bin))\n",
    "print(len(signi))"
   ]
  },
  {
   "cell_type": "code",
   "execution_count": 107,
   "metadata": {},
   "outputs": [],
   "source": [
    "def plot_transient_RTA_map(ra_bin,dec_bin,binsize,significance):\n",
    "\n",
    "    X, Y = np.meshgrid(ra_bin, dec_bin)\n",
    "    extent = np.min(dec_bin), np.max(dec_bin), np.min(ra_bin), np.max(ra_bin)\n",
    "    plt.imshow(signi,origin='low',interpolation='nearest',aspect='auto',cmap='hot',extent=extent)\n",
    "    plt.xlabel('RA [deg]')\n",
    "    plt.ylabel('Dec [deg]')\n",
    "    plt.title(\"Significance Map (Exptest)\")\n",
    "    src = plt.colorbar()\n",
    "    src.set_label('Significance of detection [$\\sigma$]')\n",
    "    plt.show()"
   ]
  },
  {
   "cell_type": "code",
   "execution_count": 108,
   "metadata": {},
   "outputs": [
    {
     "data": {
      "image/png": "[encoded data removed]",
      "text/plain": [
       "<Figure size 432x288 with 2 Axes>"
      ]
     },
     "metadata": {
      "needs_background": "light"
     },
     "output_type": "display_data"
    }
   ],
   "source": [
    "plot_transient_RTA_map(ra_bin,dec_bin,binsize,signi)"
   ]
  },
  {
   "cell_type": "code",
   "execution_count": 77,
   "metadata": {},
   "outputs": [],
   "source": [
    "def func3(x, y):\n",
    "    return (1 - x / 2 + x**5 + y**3) * np.exp(-(x**2 + y**2))"
   ]
  },
  {
   "cell_type": "code",
   "execution_count": 79,
   "metadata": {},
   "outputs": [],
   "source": [
    "dx, dy = 0.05, 0.05\n",
    "\n",
    "x = np.arange(-3.0, 3.0, dx)\n",
    "y = np.arange(-3.0, 3.0, dy)\n",
    "X, Y = np.meshgrid(x, y)\n",
    "Z2 = func3(X, Y)"
   ]
  },
  {
   "cell_type": "code",
   "execution_count": 82,
   "metadata": {},
   "outputs": [
    {
     "name": "stdout",
     "output_type": "stream",
     "text": [
      "120\n"
     ]
    },
    {
     "data": {
      "text/plain": [
       "array([[-4.07401958e-06, -5.08447955e-06, -6.30988215e-06, ...,\n",
       "         5.88231752e-06,  4.88119739e-06,  4.01811604e-06],\n",
       "       [-5.45839441e-06, -6.80953367e-06, -8.44706831e-06, ...,\n",
       "         7.98594644e-06,  6.62159020e-06,  5.44700548e-06],\n",
       "       [-7.27774767e-06, -9.07574990e-06, -1.12535426e-05, ...,\n",
       "         1.07841502e-05,  8.93503528e-06,  7.34522709e-06],\n",
       "       ...,\n",
       "       [-7.96075258e-06, -9.75436616e-06, -1.18609875e-05, ...,\n",
       "         1.85634925e-05,  1.50522157e-05,  1.21362838e-05],\n",
       "       [-5.93758641e-06, -7.27123834e-06, -8.83590718e-06, ...,\n",
       "         1.40070772e-05,  1.13526707e-05,  9.14973865e-06],\n",
       "       [-4.40546810e-06, -5.39178063e-06, -6.54760145e-06, ...,\n",
       "         1.05181079e-05,  8.52105706e-06,  6.86475852e-06]])"
      ]
     },
     "execution_count": 82,
     "metadata": {},
     "output_type": "execute_result"
    }
   ],
   "source": [
    "print(len(Z2[1]))\n",
    "Z2"
   ]
  },
  {
   "cell_type": "code",
   "execution_count": null,
   "metadata": {},
   "outputs": [],
   "source": []
  },
  {
   "cell_type": "code",
   "execution_count": null,
   "metadata": {},
   "outputs": [],
   "source": []
  }
 ],
 "metadata": {
  "kernelspec": {
   "display_name": "Python 3",
   "language": "python",
   "name": "python3"
  },
  "language_info": {
   "codemirror_mode": {
    "name": "ipython",
    "version": 3
   },
   "file_extension": ".py",
   "mimetype": "text/x-python",
   "name": "python",
   "nbconvert_exporter": "python",
   "pygments_lexer": "ipython3",
   "version": "3.7.0"
  }
 },
 "nbformat": 4,
 "nbformat_minor": 2
}
